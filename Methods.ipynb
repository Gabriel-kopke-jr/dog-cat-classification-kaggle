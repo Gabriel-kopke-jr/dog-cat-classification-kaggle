{
 "cells": [
  {
   "cell_type": "code",
   "execution_count": null,
   "id": "8212d173",
   "metadata": {},
   "outputs": [],
   "source": [
    "def read_image(number,animal):\n",
    "    if animal == \"cat\":\n",
    "        image = cv2.imread(\"C:\\cats\\cat.\"+str(number) +\".jpg\")\n",
    "        image_rgb = cv2.cvtColor(image,cv2.COLOR_BGR2RGB)\n",
    "        image_gray = cv2.cvtColor(image,cv2.COLOR_BGR2GRAY)\n",
    "        \n",
    "    else:\n",
    "        image = cv2.imread(\"C:\\dogs\\dog.\"+str(number) +\".jpg\")\n",
    "        image_rgb = cv2.cvtColor(image,cv2.COLOR_BGR2RGB)\n",
    "        image_gray = cv2.cvtColor(image,cv2.COLOR_BGR2GRAY)\n",
    "\n",
    "    return image, image_gray"
   ]
  },
  {
   "cell_type": "code",
   "execution_count": null,
   "id": "d31617e4",
   "metadata": {},
   "outputs": [],
   "source": [
    "def classifier(image_gray,scaleFactor,minNeighbors):\n",
    "    classificador = cv2.CascadeClassifier(\"C:\\haarcascade_frontalcatface_default.xml\")\n",
    "    cat_face = classificador.detectMultiScale(image_gray,scaleFactor,minNeighbors)\n",
    "    return cat_face\n",
    "\n"
   ]
  },
  {
   "cell_type": "code",
   "execution_count": null,
   "id": "c0298a72",
   "metadata": {},
   "outputs": [],
   "source": [
    "def mark_rec(image,cat_face):\n",
    "    for (x, y, w, h)   in cat_face:\n",
    "        cv2.rectangle(image, (x, y), (x + w, y + h), (0, 0, 255), 3)\n",
    "    return image"
   ]
  }
 ],
 "metadata": {
  "kernelspec": {
   "display_name": "Python 3 (ipykernel)",
   "language": "python",
   "name": "python3"
  },
  "language_info": {
   "codemirror_mode": {
    "name": "ipython",
    "version": 3
   },
   "file_extension": ".py",
   "mimetype": "text/x-python",
   "name": "python",
   "nbconvert_exporter": "python",
   "pygments_lexer": "ipython3",
   "version": "3.9.7"
  }
 },
 "nbformat": 4,
 "nbformat_minor": 5
}
